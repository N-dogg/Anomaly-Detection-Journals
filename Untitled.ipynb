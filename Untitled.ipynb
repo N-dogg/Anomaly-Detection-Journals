{
 "cells": [
  {
   "cell_type": "code",
   "execution_count": 1,
   "metadata": {},
   "outputs": [
    {
     "name": "stderr",
     "output_type": "stream",
     "text": [
      "Using TensorFlow backend.\n",
      "c:\\users\\scougni\\lib\\site-packages\\tensorflow\\python\\framework\\dtypes.py:516: FutureWarning: Passing (type, 1) or '1type' as a synonym of type is deprecated; in a future version of numpy, it will be understood as (type, (1,)) / '(1,)type'.\n",
      "  _np_qint8 = np.dtype([(\"qint8\", np.int8, 1)])\n",
      "c:\\users\\scougni\\lib\\site-packages\\tensorflow\\python\\framework\\dtypes.py:517: FutureWarning: Passing (type, 1) or '1type' as a synonym of type is deprecated; in a future version of numpy, it will be understood as (type, (1,)) / '(1,)type'.\n",
      "  _np_quint8 = np.dtype([(\"quint8\", np.uint8, 1)])\n",
      "c:\\users\\scougni\\lib\\site-packages\\tensorflow\\python\\framework\\dtypes.py:518: FutureWarning: Passing (type, 1) or '1type' as a synonym of type is deprecated; in a future version of numpy, it will be understood as (type, (1,)) / '(1,)type'.\n",
      "  _np_qint16 = np.dtype([(\"qint16\", np.int16, 1)])\n",
      "c:\\users\\scougni\\lib\\site-packages\\tensorflow\\python\\framework\\dtypes.py:519: FutureWarning: Passing (type, 1) or '1type' as a synonym of type is deprecated; in a future version of numpy, it will be understood as (type, (1,)) / '(1,)type'.\n",
      "  _np_quint16 = np.dtype([(\"quint16\", np.uint16, 1)])\n",
      "c:\\users\\scougni\\lib\\site-packages\\tensorflow\\python\\framework\\dtypes.py:520: FutureWarning: Passing (type, 1) or '1type' as a synonym of type is deprecated; in a future version of numpy, it will be understood as (type, (1,)) / '(1,)type'.\n",
      "  _np_qint32 = np.dtype([(\"qint32\", np.int32, 1)])\n",
      "c:\\users\\scougni\\lib\\site-packages\\tensorflow\\python\\framework\\dtypes.py:525: FutureWarning: Passing (type, 1) or '1type' as a synonym of type is deprecated; in a future version of numpy, it will be understood as (type, (1,)) / '(1,)type'.\n",
      "  np_resource = np.dtype([(\"resource\", np.ubyte, 1)])\n",
      "c:\\users\\scougni\\lib\\site-packages\\tensorboard\\compat\\tensorflow_stub\\dtypes.py:541: FutureWarning: Passing (type, 1) or '1type' as a synonym of type is deprecated; in a future version of numpy, it will be understood as (type, (1,)) / '(1,)type'.\n",
      "  _np_qint8 = np.dtype([(\"qint8\", np.int8, 1)])\n",
      "c:\\users\\scougni\\lib\\site-packages\\tensorboard\\compat\\tensorflow_stub\\dtypes.py:542: FutureWarning: Passing (type, 1) or '1type' as a synonym of type is deprecated; in a future version of numpy, it will be understood as (type, (1,)) / '(1,)type'.\n",
      "  _np_quint8 = np.dtype([(\"quint8\", np.uint8, 1)])\n",
      "c:\\users\\scougni\\lib\\site-packages\\tensorboard\\compat\\tensorflow_stub\\dtypes.py:543: FutureWarning: Passing (type, 1) or '1type' as a synonym of type is deprecated; in a future version of numpy, it will be understood as (type, (1,)) / '(1,)type'.\n",
      "  _np_qint16 = np.dtype([(\"qint16\", np.int16, 1)])\n",
      "c:\\users\\scougni\\lib\\site-packages\\tensorboard\\compat\\tensorflow_stub\\dtypes.py:544: FutureWarning: Passing (type, 1) or '1type' as a synonym of type is deprecated; in a future version of numpy, it will be understood as (type, (1,)) / '(1,)type'.\n",
      "  _np_quint16 = np.dtype([(\"quint16\", np.uint16, 1)])\n",
      "c:\\users\\scougni\\lib\\site-packages\\tensorboard\\compat\\tensorflow_stub\\dtypes.py:545: FutureWarning: Passing (type, 1) or '1type' as a synonym of type is deprecated; in a future version of numpy, it will be understood as (type, (1,)) / '(1,)type'.\n",
      "  _np_qint32 = np.dtype([(\"qint32\", np.int32, 1)])\n",
      "c:\\users\\scougni\\lib\\site-packages\\tensorboard\\compat\\tensorflow_stub\\dtypes.py:550: FutureWarning: Passing (type, 1) or '1type' as a synonym of type is deprecated; in a future version of numpy, it will be understood as (type, (1,)) / '(1,)type'.\n",
      "  np_resource = np.dtype([(\"resource\", np.ubyte, 1)])\n"
     ]
    }
   ],
   "source": [
    "import pandas as pd\n",
    "import numpy as np\n",
    "import matplotlib.pyplot as plt\n",
    "import seaborn as sns\n",
    "\n",
    "from sklearn.model_selection import train_test_split\n",
    "from sklearn.preprocessing import StandardScaler\n",
    "\n",
    "from keras.models import Model, load_model\n",
    "from keras.layers import Input, Dense\n",
    "from keras.callbacks import ModelCheckpoint, TensorBoard\n",
    "from keras import regularizers"
   ]
  },
  {
   "cell_type": "code",
   "execution_count": 2,
   "metadata": {},
   "outputs": [],
   "source": [
    "df = pd.read_csv('Book1.csv')"
   ]
  },
  {
   "cell_type": "code",
   "execution_count": 3,
   "metadata": {},
   "outputs": [],
   "source": [
    "for col in df:\n",
    "    if col != 'ID':\n",
    "        df = pd.get_dummies(df, columns = [col], drop_first = True)"
   ]
  },
  {
   "cell_type": "code",
   "execution_count": 4,
   "metadata": {},
   "outputs": [],
   "source": [
    "df_1 = df[df['ID']==1]"
   ]
  },
  {
   "cell_type": "code",
   "execution_count": 5,
   "metadata": {},
   "outputs": [],
   "source": [
    "df = df[df.ID != 1]"
   ]
  },
  {
   "cell_type": "code",
   "execution_count": 6,
   "metadata": {},
   "outputs": [],
   "source": [
    "df_train, df_test = train_test_split(df, test_size = 0.2)"
   ]
  },
  {
   "cell_type": "code",
   "execution_count": 7,
   "metadata": {},
   "outputs": [],
   "source": [
    "df_train, df_valid = train_test_split(df_train, test_size = 0.2)"
   ]
  },
  {
   "cell_type": "code",
   "execution_count": 8,
   "metadata": {},
   "outputs": [],
   "source": [
    "df_train = df_train.drop(['ID'], axis = 1)\n",
    "df_valid = df_valid.drop(['ID'], axis = 1)\n",
    "df_test = df_test.append(df_1)\n",
    "df_test_y = pd.DataFrame(df_test['ID'])\n",
    "df_test = df_test.drop(['ID'], axis = 1)"
   ]
  },
  {
   "cell_type": "code",
   "execution_count": 9,
   "metadata": {},
   "outputs": [
    {
     "name": "stdout",
     "output_type": "stream",
     "text": [
      "(55960, 395) (13991, 395) (17970, 395) (17970, 1)\n"
     ]
    }
   ],
   "source": [
    "print(df_train.shape, df_valid.shape, df_test.shape, df_test_y.shape)"
   ]
  },
  {
   "cell_type": "code",
   "execution_count": 10,
   "metadata": {},
   "outputs": [],
   "source": [
    "assert df_test.shape[0]==df_test_y.shape[0]"
   ]
  },
  {
   "cell_type": "code",
   "execution_count": 11,
   "metadata": {},
   "outputs": [],
   "source": [
    "n_epoch = 100\n",
    "batch_size = 500\n",
    "input_dim = df_train.shape[1]\n",
    "encoding_dim = 200\n",
    "hidden_dim = int(encoding_dim/2)\n",
    "learning_rate = 1e-3"
   ]
  },
  {
   "cell_type": "code",
   "execution_count": 33,
   "metadata": {},
   "outputs": [
    {
     "ename": "NameError",
     "evalue": "name 'input_dim' is not defined",
     "output_type": "error",
     "traceback": [
      "\u001b[1;31m---------------------------------------------------------------------------\u001b[0m",
      "\u001b[1;31mNameError\u001b[0m                                 Traceback (most recent call last)",
      "\u001b[1;32m<ipython-input-33-e7dae904f37e>\u001b[0m in \u001b[0;36m<module>\u001b[1;34m\u001b[0m\n\u001b[1;32m----> 1\u001b[1;33m \u001b[0minput_layer\u001b[0m \u001b[1;33m=\u001b[0m \u001b[0mInput\u001b[0m\u001b[1;33m(\u001b[0m\u001b[0mshape\u001b[0m \u001b[1;33m=\u001b[0m \u001b[1;33m(\u001b[0m\u001b[0minput_dim\u001b[0m\u001b[1;33m,\u001b[0m \u001b[1;33m)\u001b[0m\u001b[1;33m)\u001b[0m\u001b[1;33m\u001b[0m\u001b[0m\n\u001b[0m\u001b[0;32m      2\u001b[0m \u001b[0mencoder\u001b[0m \u001b[1;33m=\u001b[0m \u001b[0mDense\u001b[0m\u001b[1;33m(\u001b[0m\u001b[0mencoding_dim\u001b[0m\u001b[1;33m,\u001b[0m \u001b[0mactivation\u001b[0m \u001b[1;33m=\u001b[0m \u001b[1;34m'relu'\u001b[0m\u001b[1;33m,\u001b[0m \u001b[0mactivity_regularizer\u001b[0m\u001b[1;33m=\u001b[0m \u001b[0mregularizers\u001b[0m\u001b[1;33m.\u001b[0m\u001b[0ml1\u001b[0m\u001b[1;33m(\u001b[0m\u001b[0mlearning_rate\u001b[0m\u001b[1;33m)\u001b[0m\u001b[1;33m)\u001b[0m\u001b[1;33m(\u001b[0m\u001b[0minput_layer\u001b[0m\u001b[1;33m)\u001b[0m\u001b[1;33m\u001b[0m\u001b[0m\n\u001b[0;32m      3\u001b[0m \u001b[0mencoder\u001b[0m \u001b[1;33m=\u001b[0m \u001b[0mDense\u001b[0m\u001b[1;33m(\u001b[0m\u001b[0mhidden_dim\u001b[0m\u001b[1;33m,\u001b[0m \u001b[0mactivation\u001b[0m\u001b[1;33m=\u001b[0m\u001b[1;34m'relu'\u001b[0m\u001b[1;33m)\u001b[0m\u001b[1;33m(\u001b[0m\u001b[0mencoder\u001b[0m\u001b[1;33m)\u001b[0m\u001b[1;33m\u001b[0m\u001b[0m\n\u001b[0;32m      4\u001b[0m \u001b[0mdecoder\u001b[0m \u001b[1;33m=\u001b[0m \u001b[0mDense\u001b[0m\u001b[1;33m(\u001b[0m\u001b[0mhidden_dim\u001b[0m\u001b[1;33m,\u001b[0m \u001b[0mactivation\u001b[0m\u001b[1;33m=\u001b[0m\u001b[1;34m'relu'\u001b[0m\u001b[1;33m)\u001b[0m\u001b[1;33m(\u001b[0m\u001b[0mencoder\u001b[0m\u001b[1;33m)\u001b[0m\u001b[1;33m\u001b[0m\u001b[0m\n\u001b[0;32m      5\u001b[0m \u001b[0mdecoder\u001b[0m \u001b[1;33m=\u001b[0m \u001b[0mDense\u001b[0m\u001b[1;33m(\u001b[0m\u001b[0mencoding_dim\u001b[0m\u001b[1;33m,\u001b[0m \u001b[0mactivation\u001b[0m\u001b[1;33m=\u001b[0m\u001b[1;34m'relu'\u001b[0m\u001b[1;33m)\u001b[0m\u001b[1;33m(\u001b[0m\u001b[0mdecoder\u001b[0m\u001b[1;33m)\u001b[0m\u001b[1;33m\u001b[0m\u001b[0m\n",
      "\u001b[1;31mNameError\u001b[0m: name 'input_dim' is not defined"
     ]
    }
   ],
   "source": [
    "input_layer = Input(shape = (input_dim, ))\n",
    "encoder = Dense(encoding_dim, activation = 'relu', activity_regularizer= regularizers.l1(learning_rate))(input_layer)\n",
    "encoder = Dense(hidden_dim, activation='relu')(encoder)\n",
    "decoder = Dense(hidden_dim, activation='relu')(encoder)\n",
    "decoder = Dense(encoding_dim, activation='relu')(decoder)\n",
    "decoder = Dense(input_dim, activation='sigmoid')(decoder)\n",
    "autoencoder = Model(inputs = input_layer, outputs = decoder)\n",
    "autoencoder.summary()"
   ]
  },
  {
   "cell_type": "code",
   "execution_count": 13,
   "metadata": {},
   "outputs": [
    {
     "name": "stderr",
     "output_type": "stream",
     "text": [
      "W0918 09:55:58.442219 98032 deprecation_wrapper.py:119] From c:\\users\\scougni\\lib\\site-packages\\keras\\optimizers.py:790: The name tf.train.Optimizer is deprecated. Please use tf.compat.v1.train.Optimizer instead.\n",
      "\n",
      "W0918 09:55:58.484178 98032 deprecation_wrapper.py:119] From c:\\users\\scougni\\lib\\site-packages\\keras\\backend\\tensorflow_backend.py:3376: The name tf.log is deprecated. Please use tf.math.log instead.\n",
      "\n",
      "W0918 09:55:58.498179 98032 deprecation.py:323] From c:\\users\\scougni\\lib\\site-packages\\tensorflow\\python\\ops\\nn_impl.py:180: add_dispatch_support.<locals>.wrapper (from tensorflow.python.ops.array_ops) is deprecated and will be removed in a future version.\n",
      "Instructions for updating:\n",
      "Use tf.where in 2.0, which has the same broadcast rule as np.where\n",
      "W0918 09:56:04.729243 98032 deprecation_wrapper.py:119] From c:\\users\\scougni\\lib\\site-packages\\keras\\backend\\tensorflow_backend.py:986: The name tf.assign_add is deprecated. Please use tf.compat.v1.assign_add instead.\n",
      "\n"
     ]
    },
    {
     "name": "stdout",
     "output_type": "stream",
     "text": [
      "Train on 55960 samples, validate on 13991 samples\n"
     ]
    },
    {
     "name": "stderr",
     "output_type": "stream",
     "text": [
      "W0918 09:56:05.618238 98032 deprecation_wrapper.py:119] From c:\\users\\scougni\\lib\\site-packages\\keras\\callbacks.py:850: The name tf.summary.merge_all is deprecated. Please use tf.compat.v1.summary.merge_all instead.\n",
      "\n",
      "W0918 09:56:05.619244 98032 deprecation_wrapper.py:119] From c:\\users\\scougni\\lib\\site-packages\\keras\\callbacks.py:853: The name tf.summary.FileWriter is deprecated. Please use tf.compat.v1.summary.FileWriter instead.\n",
      "\n"
     ]
    },
    {
     "name": "stdout",
     "output_type": "stream",
     "text": [
      "Epoch 1/100\n",
      "55960/55960 [==============================] - 7s 123us/step - loss: 0.9764 - binary_accuracy: 0.9607 - val_loss: 0.0669 - val_binary_accuracy: 0.9839\n",
      "Epoch 2/100\n",
      "55960/55960 [==============================] - 5s 91us/step - loss: 0.0580 - binary_accuracy: 0.9838 - val_loss: 0.0548 - val_binary_accuracy: 0.9839\n",
      "Epoch 3/100\n",
      "55960/55960 [==============================] - 5s 88us/step - loss: 0.0534 - binary_accuracy: 0.9838 - val_loss: 0.0532 - val_binary_accuracy: 0.9839\n",
      "Epoch 4/100\n",
      "55960/55960 [==============================] - 5s 85us/step - loss: 0.0525 - binary_accuracy: 0.9838 - val_loss: 0.0527 - val_binary_accuracy: 0.9839\n",
      "Epoch 5/100\n",
      "55960/55960 [==============================] - 5s 83us/step - loss: 0.0522 - binary_accuracy: 0.9838 - val_loss: 0.0525 - val_binary_accuracy: 0.9839\n",
      "Epoch 6/100\n",
      "55960/55960 [==============================] - 4s 79us/step - loss: 0.0521 - binary_accuracy: 0.9839 - val_loss: 0.0524 - val_binary_accuracy: 0.9839\n",
      "Epoch 7/100\n",
      "55960/55960 [==============================] - 4s 77us/step - loss: 0.0520 - binary_accuracy: 0.9839 - val_loss: 0.0524 - val_binary_accuracy: 0.9839\n",
      "Epoch 8/100\n",
      "55960/55960 [==============================] - 5s 89us/step - loss: 0.0520 - binary_accuracy: 0.9839 - val_loss: 0.0524 - val_binary_accuracy: 0.9839\n",
      "Epoch 9/100\n",
      "55960/55960 [==============================] - 5s 84us/step - loss: 0.0519 - binary_accuracy: 0.9838 - val_loss: 0.0523 - val_binary_accuracy: 0.9839\n",
      "Epoch 10/100\n",
      "55960/55960 [==============================] - 4s 77us/step - loss: 0.0519 - binary_accuracy: 0.9839 - val_loss: 0.0524 - val_binary_accuracy: 0.9839\n",
      "Epoch 11/100\n",
      "55960/55960 [==============================] - 4s 77us/step - loss: 0.0519 - binary_accuracy: 0.9838 - val_loss: 0.0523 - val_binary_accuracy: 0.9839\n",
      "Epoch 12/100\n",
      "55960/55960 [==============================] - 4s 78us/step - loss: 0.0519 - binary_accuracy: 0.9839 - val_loss: 0.0523 - val_binary_accuracy: 0.9839\n",
      "Epoch 13/100\n",
      "55960/55960 [==============================] - 4s 77us/step - loss: 0.0519 - binary_accuracy: 0.9839 - val_loss: 0.0524 - val_binary_accuracy: 0.9839\n",
      "Epoch 14/100\n",
      "55960/55960 [==============================] - 5s 82us/step - loss: 0.0519 - binary_accuracy: 0.9838 - val_loss: 0.0523 - val_binary_accuracy: 0.9839\n",
      "Epoch 15/100\n",
      "55960/55960 [==============================] - 6s 109us/step - loss: 0.0519 - binary_accuracy: 0.9839 - val_loss: 0.0524 - val_binary_accuracy: 0.9839\n",
      "Epoch 16/100\n",
      "55960/55960 [==============================] - 7s 121us/step - loss: 0.0519 - binary_accuracy: 0.9839 - val_loss: 0.0523 - val_binary_accuracy: 0.9839\n",
      "Epoch 17/100\n",
      "55960/55960 [==============================] - 7s 126us/step - loss: 0.0519 - binary_accuracy: 0.9838 - val_loss: 0.0523 - val_binary_accuracy: 0.9839\n",
      "Epoch 18/100\n",
      "55960/55960 [==============================] - 7s 130us/step - loss: 0.0519 - binary_accuracy: 0.9839 - val_loss: 0.0523 - val_binary_accuracy: 0.9839\n",
      "Epoch 19/100\n",
      "55960/55960 [==============================] - 6s 107us/step - loss: 0.0519 - binary_accuracy: 0.9839 - val_loss: 0.0523 - val_binary_accuracy: 0.9839\n",
      "Epoch 20/100\n",
      "55960/55960 [==============================] - 6s 102us/step - loss: 0.0519 - binary_accuracy: 0.9838 - val_loss: 0.0523 - val_binary_accuracy: 0.9839\n",
      "Epoch 21/100\n",
      "55960/55960 [==============================] - 5s 91us/step - loss: 0.0519 - binary_accuracy: 0.9839 - val_loss: 0.0523 - val_binary_accuracy: 0.9839\n",
      "Epoch 22/100\n",
      "55960/55960 [==============================] - 5s 96us/step - loss: 0.0519 - binary_accuracy: 0.9838 - val_loss: 0.0523 - val_binary_accuracy: 0.9839\n",
      "Epoch 23/100\n",
      "55960/55960 [==============================] - 5s 82us/step - loss: 0.0519 - binary_accuracy: 0.9838 - val_loss: 0.0523 - val_binary_accuracy: 0.9839\n",
      "Epoch 24/100\n",
      "55960/55960 [==============================] - 4s 76us/step - loss: 0.0519 - binary_accuracy: 0.9839 - val_loss: 0.0523 - val_binary_accuracy: 0.9839\n",
      "Epoch 25/100\n",
      "55960/55960 [==============================] - 4s 76us/step - loss: 0.0519 - binary_accuracy: 0.9838 - val_loss: 0.0523 - val_binary_accuracy: 0.9839\n",
      "Epoch 26/100\n",
      "55960/55960 [==============================] - 4s 77us/step - loss: 0.0519 - binary_accuracy: 0.9839 - val_loss: 0.0523 - val_binary_accuracy: 0.9839\n",
      "Epoch 27/100\n",
      "55960/55960 [==============================] - 5s 84us/step - loss: 0.0519 - binary_accuracy: 0.9839 - val_loss: 0.0523 - val_binary_accuracy: 0.9839\n",
      "Epoch 28/100\n",
      "55960/55960 [==============================] - 5s 81us/step - loss: 0.0519 - binary_accuracy: 0.9839 - val_loss: 0.0523 - val_binary_accuracy: 0.9839\n",
      "Epoch 29/100\n",
      "55960/55960 [==============================] - 5s 83us/step - loss: 0.0519 - binary_accuracy: 0.9838 - val_loss: 0.0523 - val_binary_accuracy: 0.9839\n",
      "Epoch 30/100\n",
      "55960/55960 [==============================] - 5s 84us/step - loss: 0.0519 - binary_accuracy: 0.9839 - val_loss: 0.0523 - val_binary_accuracy: 0.9839\n",
      "Epoch 31/100\n",
      "55960/55960 [==============================] - 5s 81us/step - loss: 0.0519 - binary_accuracy: 0.9839 - val_loss: 0.0523 - val_binary_accuracy: 0.9839\n",
      "Epoch 32/100\n",
      "55960/55960 [==============================] - 5s 81us/step - loss: 0.0519 - binary_accuracy: 0.9839 - val_loss: 0.0523 - val_binary_accuracy: 0.9839\n",
      "Epoch 33/100\n",
      "55960/55960 [==============================] - 5s 83us/step - loss: 0.0519 - binary_accuracy: 0.9839 - val_loss: 0.0523 - val_binary_accuracy: 0.9839\n",
      "Epoch 34/100\n",
      "55960/55960 [==============================] - 5s 82us/step - loss: 0.0519 - binary_accuracy: 0.9839 - val_loss: 0.0523 - val_binary_accuracy: 0.9839\n",
      "Epoch 35/100\n",
      "55960/55960 [==============================] - 5s 81us/step - loss: 0.0519 - binary_accuracy: 0.9838 - val_loss: 0.0523 - val_binary_accuracy: 0.9839\n",
      "Epoch 36/100\n",
      "55960/55960 [==============================] - 4s 78us/step - loss: 0.0519 - binary_accuracy: 0.9839 - val_loss: 0.0523 - val_binary_accuracy: 0.9839\n",
      "Epoch 37/100\n",
      "55960/55960 [==============================] - 4s 76us/step - loss: 0.0519 - binary_accuracy: 0.9839 - val_loss: 0.0523 - val_binary_accuracy: 0.9839\n",
      "Epoch 38/100\n",
      "55960/55960 [==============================] - 5s 86us/step - loss: 0.0519 - binary_accuracy: 0.9839 - val_loss: 0.0523 - val_binary_accuracy: 0.9839\n",
      "Epoch 39/100\n",
      "55960/55960 [==============================] - 5s 88us/step - loss: 0.0519 - binary_accuracy: 0.9839 - val_loss: 0.0523 - val_binary_accuracy: 0.9839\n",
      "Epoch 40/100\n",
      "55960/55960 [==============================] - 5s 88us/step - loss: 0.0519 - binary_accuracy: 0.9839 - val_loss: 0.0523 - val_binary_accuracy: 0.9839\n",
      "Epoch 41/100\n",
      "55960/55960 [==============================] - 5s 84us/step - loss: 0.0519 - binary_accuracy: 0.9838 - val_loss: 0.0523 - val_binary_accuracy: 0.9839\n",
      "Epoch 42/100\n",
      "55960/55960 [==============================] - 5s 91us/step - loss: 0.0519 - binary_accuracy: 0.9838 - val_loss: 0.0523 - val_binary_accuracy: 0.9839\n",
      "Epoch 43/100\n",
      "55960/55960 [==============================] - 5s 85us/step - loss: 0.0519 - binary_accuracy: 0.9839 - val_loss: 0.0523 - val_binary_accuracy: 0.9839\n",
      "Epoch 44/100\n",
      "55960/55960 [==============================] - 4s 77us/step - loss: 0.0519 - binary_accuracy: 0.9838 - val_loss: 0.0523 - val_binary_accuracy: 0.9839\n",
      "Epoch 45/100\n",
      "55960/55960 [==============================] - 5s 88us/step - loss: 0.0519 - binary_accuracy: 0.9839 - val_loss: 0.0523 - val_binary_accuracy: 0.9839\n",
      "Epoch 46/100\n",
      "55960/55960 [==============================] - 4s 80us/step - loss: 0.0519 - binary_accuracy: 0.9839 - val_loss: 0.0523 - val_binary_accuracy: 0.9839\n",
      "Epoch 47/100\n",
      "55960/55960 [==============================] - 5s 85us/step - loss: 0.0519 - binary_accuracy: 0.9839 - val_loss: 0.0523 - val_binary_accuracy: 0.9839\n",
      "Epoch 48/100\n",
      "55960/55960 [==============================] - 5s 91us/step - loss: 0.0519 - binary_accuracy: 0.9839 - val_loss: 0.0523 - val_binary_accuracy: 0.9839\n",
      "Epoch 49/100\n",
      "55960/55960 [==============================] - 5s 94us/step - loss: 0.0519 - binary_accuracy: 0.9839 - val_loss: 0.0523 - val_binary_accuracy: 0.9839\n",
      "Epoch 50/100\n",
      "55960/55960 [==============================] - 5s 88us/step - loss: 0.0519 - binary_accuracy: 0.9838 - val_loss: 0.0523 - val_binary_accuracy: 0.9839\n",
      "Epoch 51/100\n",
      "55960/55960 [==============================] - 5s 92us/step - loss: 0.0519 - binary_accuracy: 0.9838 - val_loss: 0.0523 - val_binary_accuracy: 0.9839\n",
      "Epoch 52/100\n",
      "55960/55960 [==============================] - 5s 92us/step - loss: 0.0519 - binary_accuracy: 0.9839 - val_loss: 0.0523 - val_binary_accuracy: 0.9839\n",
      "Epoch 53/100\n",
      "55960/55960 [==============================] - 5s 91us/step - loss: 0.0519 - binary_accuracy: 0.9839 - val_loss: 0.0523 - val_binary_accuracy: 0.9839loss: 0.0519 - binary_accuracy: 0 - ETA: 1s - loss: 0.0519 - \n",
      "Epoch 54/100\n",
      "55960/55960 [==============================] - 5s 93us/step - loss: 0.0519 - binary_accuracy: 0.9839 - val_loss: 0.0523 - val_binary_accuracy: 0.9839\n",
      "Epoch 55/100\n",
      "55960/55960 [==============================] - 5s 88us/step - loss: 0.0519 - binary_accuracy: 0.9839 - val_loss: 0.0523 - val_binary_accuracy: 0.9839\n",
      "Epoch 56/100\n",
      "55960/55960 [==============================] - 5s 91us/step - loss: 0.0519 - binary_accuracy: 0.9838 - val_loss: 0.0523 - val_binary_accuracy: 0.9839\n",
      "Epoch 57/100\n",
      "55960/55960 [==============================] - 5s 88us/step - loss: 0.0519 - binary_accuracy: 0.9839 - val_loss: 0.0523 - val_binary_accuracy: 0.9839\n",
      "Epoch 58/100\n",
      "55960/55960 [==============================] - 5s 89us/step - loss: 0.0519 - binary_accuracy: 0.9839 - val_loss: 0.0523 - val_binary_accuracy: 0.9839\n",
      "Epoch 59/100\n",
      "55960/55960 [==============================] - 5s 88us/step - loss: 0.0519 - binary_accuracy: 0.9839 - val_loss: 0.0523 - val_binary_accuracy: 0.9839\n",
      "Epoch 60/100\n",
      "55960/55960 [==============================] - 5s 84us/step - loss: 0.0519 - binary_accuracy: 0.9839 - val_loss: 0.0523 - val_binary_accuracy: 0.9839\n",
      "Epoch 61/100\n",
      "55960/55960 [==============================] - 4s 78us/step - loss: 0.0519 - binary_accuracy: 0.9839 - val_loss: 0.0523 - val_binary_accuracy: 0.9839\n",
      "Epoch 62/100\n",
      "55960/55960 [==============================] - 4s 77us/step - loss: 0.0519 - binary_accuracy: 0.9839 - val_loss: 0.0523 - val_binary_accuracy: 0.9839\n",
      "Epoch 63/100\n",
      "55960/55960 [==============================] - 4s 78us/step - loss: 0.0519 - binary_accuracy: 0.9838 - val_loss: 0.0523 - val_binary_accuracy: 0.9839\n",
      "Epoch 64/100\n",
      "55960/55960 [==============================] - 5s 86us/step - loss: 0.0519 - binary_accuracy: 0.9839 - val_loss: 0.0523 - val_binary_accuracy: 0.9839\n",
      "Epoch 65/100\n",
      "55960/55960 [==============================] - 5s 84us/step - loss: 0.0519 - binary_accuracy: 0.9839 - val_loss: 0.0523 - val_binary_accuracy: 0.9839\n",
      "Epoch 66/100\n",
      "55960/55960 [==============================] - 4s 76us/step - loss: 0.0519 - binary_accuracy: 0.9839 - val_loss: 0.0523 - val_binary_accuracy: 0.9839\n",
      "Epoch 67/100\n",
      "55960/55960 [==============================] - 5s 82us/step - loss: 0.0519 - binary_accuracy: 0.9839 - val_loss: 0.0523 - val_binary_accuracy: 0.9839\n",
      "Epoch 68/100\n",
      "55960/55960 [==============================] - 4s 77us/step - loss: 0.0519 - binary_accuracy: 0.9839 - val_loss: 0.0523 - val_binary_accuracy: 0.9839\n",
      "Epoch 69/100\n",
      "55960/55960 [==============================] - 5s 84us/step - loss: 0.0519 - binary_accuracy: 0.9839 - val_loss: 0.0523 - val_binary_accuracy: 0.9839\n",
      "Epoch 70/100\n",
      "55960/55960 [==============================] - 5s 86us/step - loss: 0.0519 - binary_accuracy: 0.9839 - val_loss: 0.0523 - val_binary_accuracy: 0.9839\n",
      "Epoch 71/100\n",
      "55960/55960 [==============================] - 4s 80us/step - loss: 0.0519 - binary_accuracy: 0.9839 - val_loss: 0.0523 - val_binary_accuracy: 0.9839\n",
      "Epoch 72/100\n",
      "55960/55960 [==============================] - 4s 77us/step - loss: 0.0519 - binary_accuracy: 0.9839 - val_loss: 0.0523 - val_binary_accuracy: 0.9839\n",
      "Epoch 73/100\n",
      "55960/55960 [==============================] - 5s 88us/step - loss: 0.0519 - binary_accuracy: 0.9839 - val_loss: 0.0523 - val_binary_accuracy: 0.9839\n",
      "Epoch 74/100\n",
      "55960/55960 [==============================] - 5s 93us/step - loss: 0.0519 - binary_accuracy: 0.9839 - val_loss: 0.0523 - val_binary_accuracy: 0.9839\n",
      "Epoch 75/100\n",
      "55960/55960 [==============================] - 5s 90us/step - loss: 0.0519 - binary_accuracy: 0.9839 - val_loss: 0.0523 - val_binary_accuracy: 0.9839\n",
      "Epoch 76/100\n",
      "55960/55960 [==============================] - 4s 79us/step - loss: 0.0519 - binary_accuracy: 0.9839 - val_loss: 0.0523 - val_binary_accuracy: 0.9839\n",
      "Epoch 77/100\n",
      "55960/55960 [==============================] - 4s 79us/step - loss: 0.0519 - binary_accuracy: 0.9839 - val_loss: 0.0523 - val_binary_accuracy: 0.9839\n",
      "Epoch 78/100\n",
      "55960/55960 [==============================] - 4s 77us/step - loss: 0.0519 - binary_accuracy: 0.9839 - val_loss: 0.0523 - val_binary_accuracy: 0.9839\n",
      "Epoch 79/100\n",
      "55960/55960 [==============================] - 5s 82us/step - loss: 0.0519 - binary_accuracy: 0.9839 - val_loss: 0.0523 - val_binary_accuracy: 0.9839\n",
      "Epoch 80/100\n",
      "55960/55960 [==============================] - 5s 81us/step - loss: 0.0519 - binary_accuracy: 0.9839 - val_loss: 0.0523 - val_binary_accuracy: 0.9839\n",
      "Epoch 81/100\n",
      "55960/55960 [==============================] - 4s 80us/step - loss: 0.0519 - binary_accuracy: 0.9838 - val_loss: 0.0523 - val_binary_accuracy: 0.9839\n",
      "Epoch 82/100\n",
      "55960/55960 [==============================] - 4s 77us/step - loss: 0.0519 - binary_accuracy: 0.9839 - val_loss: 0.0523 - val_binary_accuracy: 0.9839\n",
      "Epoch 83/100\n",
      "55960/55960 [==============================] - 4s 78us/step - loss: 0.0519 - binary_accuracy: 0.9839 - val_loss: 0.0523 - val_binary_accuracy: 0.9839\n",
      "Epoch 84/100\n",
      "55960/55960 [==============================] - 5s 85us/step - loss: 0.0519 - binary_accuracy: 0.9839 - val_loss: 0.0523 - val_binary_accuracy: 0.9839\n",
      "Epoch 85/100\n",
      "55960/55960 [==============================] - 4s 79us/step - loss: 0.0519 - binary_accuracy: 0.9839 - val_loss: 0.0523 - val_binary_accuracy: 0.9839\n",
      "Epoch 86/100\n",
      "55960/55960 [==============================] - 5s 81us/step - loss: 0.0519 - binary_accuracy: 0.9839 - val_loss: 0.0523 - val_binary_accuracy: 0.9839\n",
      "Epoch 87/100\n",
      "55960/55960 [==============================] - 5s 98us/step - loss: 0.0519 - binary_accuracy: 0.9839 - val_loss: 0.0523 - val_binary_accuracy: 0.9839\n",
      "Epoch 88/100\n",
      "55960/55960 [==============================] - 5s 90us/step - loss: 0.0519 - binary_accuracy: 0.9839 - val_loss: 0.0523 - val_binary_accuracy: 0.9839\n",
      "Epoch 89/100\n",
      "55960/55960 [==============================] - 4s 77us/step - loss: 0.0519 - binary_accuracy: 0.9839 - val_loss: 0.0523 - val_binary_accuracy: 0.9839\n",
      "Epoch 90/100\n",
      "55960/55960 [==============================] - 5s 86us/step - loss: 0.0519 - binary_accuracy: 0.9839 - val_loss: 0.0523 - val_binary_accuracy: 0.9839\n",
      "Epoch 91/100\n",
      "55960/55960 [==============================] - 4s 80us/step - loss: 0.0519 - binary_accuracy: 0.9839 - val_loss: 0.0523 - val_binary_accuracy: 0.9839\n",
      "Epoch 92/100\n",
      "55960/55960 [==============================] - 5s 84us/step - loss: 0.0519 - binary_accuracy: 0.9839 - val_loss: 0.0523 - val_binary_accuracy: 0.9839\n",
      "Epoch 93/100\n",
      "55960/55960 [==============================] - 5s 83us/step - loss: 0.0519 - binary_accuracy: 0.9839 - val_loss: 0.0523 - val_binary_accuracy: 0.9839\n",
      "Epoch 94/100\n",
      "55960/55960 [==============================] - 5s 87us/step - loss: 0.0519 - binary_accuracy: 0.9839 - val_loss: 0.0523 - val_binary_accuracy: 0.9839\n",
      "Epoch 95/100\n",
      "55960/55960 [==============================] - 4s 78us/step - loss: 0.0519 - binary_accuracy: 0.9839 - val_loss: 0.0523 - val_binary_accuracy: 0.9839\n",
      "Epoch 96/100\n",
      "55960/55960 [==============================] - 4s 79us/step - loss: 0.0519 - binary_accuracy: 0.9839 - val_loss: 0.0523 - val_binary_accuracy: 0.9839\n",
      "Epoch 97/100\n",
      "55960/55960 [==============================] - 5s 88us/step - loss: 0.0519 - binary_accuracy: 0.9839 - val_loss: 0.0523 - val_binary_accuracy: 0.9839s: 0.0519 - binary_accuracy: 0.\n",
      "Epoch 98/100\n",
      "55960/55960 [==============================] - 6s 105us/step - loss: 0.0519 - binary_accuracy: 0.9839 - val_loss: 0.0523 - val_binary_accuracy: 0.9839\n",
      "Epoch 99/100\n",
      "55960/55960 [==============================] - 5s 92us/step - loss: 0.0519 - binary_accuracy: 0.9839 - val_loss: 0.0523 - val_binary_accuracy: 0.9839\n",
      "Epoch 100/100\n",
      "55960/55960 [==============================] - 5s 85us/step - loss: 0.0519 - binary_accuracy: 0.9838 - val_loss: 0.0523 - val_binary_accuracy: 0.9839\n"
     ]
    }
   ],
   "source": [
    "autoencoder.compile(metrics = ['binary_accuracy'], loss = 'binary_crossentropy', \n",
    "                    optimizer = 'adam')\n",
    "\n",
    "cp = ModelCheckpoint(filepath=\"autoencoder_v3.h5\",\n",
    "                               save_best_only=True,\n",
    "                               verbose=0)\n",
    "\n",
    "tb = TensorBoard(log_dir='./logs',\n",
    "                histogram_freq=0,\n",
    "                write_graph=True,\n",
    "                write_images=True)\n",
    "\n",
    "history = autoencoder.fit(df_train, df_train,\n",
    "                    epochs=n_epoch,\n",
    "                    batch_size=batch_size,\n",
    "                    shuffle=True,\n",
    "                    validation_data=(df_valid, df_valid),\n",
    "                    verbose=1,\n",
    "                    callbacks=[cp, tb]).history"
   ]
  },
  {
   "cell_type": "code",
   "execution_count": 11,
   "metadata": {},
   "outputs": [
    {
     "name": "stderr",
     "output_type": "stream",
     "text": [
      "WARNING: Logging before flag parsing goes to stderr.\n",
      "W0918 15:30:56.776632 74392 deprecation_wrapper.py:119] From c:\\users\\scougni\\lib\\site-packages\\keras\\backend\\tensorflow_backend.py:517: The name tf.placeholder is deprecated. Please use tf.compat.v1.placeholder instead.\n",
      "\n",
      "W0918 15:30:56.873874 74392 deprecation_wrapper.py:119] From c:\\users\\scougni\\lib\\site-packages\\keras\\backend\\tensorflow_backend.py:4138: The name tf.random_uniform is deprecated. Please use tf.random.uniform instead.\n",
      "\n",
      "W0918 15:30:57.156368 74392 deprecation_wrapper.py:119] From c:\\users\\scougni\\lib\\site-packages\\keras\\backend\\tensorflow_backend.py:174: The name tf.get_default_session is deprecated. Please use tf.compat.v1.get_default_session instead.\n",
      "\n",
      "W0918 15:30:57.160490 74392 deprecation_wrapper.py:119] From c:\\users\\scougni\\lib\\site-packages\\keras\\backend\\tensorflow_backend.py:181: The name tf.ConfigProto is deprecated. Please use tf.compat.v1.ConfigProto instead.\n",
      "\n",
      "W0918 15:30:57.164552 74392 deprecation_wrapper.py:119] From c:\\users\\scougni\\lib\\site-packages\\keras\\backend\\tensorflow_backend.py:186: The name tf.Session is deprecated. Please use tf.compat.v1.Session instead.\n",
      "\n",
      "W0918 15:30:57.395365 74392 deprecation_wrapper.py:119] From c:\\users\\scougni\\lib\\site-packages\\keras\\optimizers.py:790: The name tf.train.Optimizer is deprecated. Please use tf.compat.v1.train.Optimizer instead.\n",
      "\n",
      "W0918 15:30:57.425961 74392 deprecation.py:323] From c:\\users\\scougni\\lib\\site-packages\\tensorflow\\python\\ops\\nn_impl.py:180: add_dispatch_support.<locals>.wrapper (from tensorflow.python.ops.array_ops) is deprecated and will be removed in a future version.\n",
      "Instructions for updating:\n",
      "Use tf.where in 2.0, which has the same broadcast rule as np.where\n"
     ]
    }
   ],
   "source": [
    "autoencoder = load_model('autoencoder_v3.h5')"
   ]
  },
  {
   "cell_type": "code",
   "execution_count": 16,
   "metadata": {},
   "outputs": [
    {
     "data": {
      "image/png": "[encoded data removed]",
      "text/plain": [
       "<Figure size 432x288 with 1 Axes>"
      ]
     },
     "metadata": {
      "needs_background": "light"
     },
     "output_type": "display_data"
    }
   ],
   "source": [
    "plt.plot(history['loss'], linewidth=2, label='Train')\n",
    "plt.plot(history['val_loss'], linewidth=2, label='Valid')\n",
    "plt.legend(loc='upper right')\n",
    "plt.title('Model Loss [395-200-100-100-200-395]')\n",
    "plt.ylabel('Loss')\n",
    "plt.xlabel('Epoch')\n",
    "plt.show()"
   ]
  },
  {
   "cell_type": "code",
   "execution_count": 12,
   "metadata": {},
   "outputs": [],
   "source": [
    "test_x_predictions = pd.DataFrame(autoencoder.predict(df_test))"
   ]
  },
  {
   "cell_type": "code",
   "execution_count": 13,
   "metadata": {},
   "outputs": [
    {
     "name": "stdout",
     "output_type": "stream",
     "text": [
      "(17970, 395) (17970, 395) <class 'pandas.core.frame.DataFrame'> <class 'tuple'>\n"
     ]
    }
   ],
   "source": [
    "print(test_x_predictions.shape, df_test.shape, type(test_x_predictions), type(df_test.shape))"
   ]
  },
  {
   "cell_type": "code",
   "execution_count": 14,
   "metadata": {},
   "outputs": [],
   "source": [
    "from math import log\n",
    " \n",
    "# calculate binary cross entropy\n",
    "def binary_cross_entropy(actual, predicted):\n",
    "    sum_score = 0.0\n",
    "    for i in range(len(actual)):\n",
    "        sum_score += actual[i] * log(1e-15 + predicted[i])\n",
    "    mean_sum_score = 1.0 / len(actual) * sum_score\n",
    "    return -mean_sum_score"
   ]
  },
  {
   "cell_type": "code",
   "execution_count": 17,
   "metadata": {},
   "outputs": [],
   "source": [
    "reconstruction_loss_transaction = np.zeros(df_test.shape[0])"
   ]
  },
  {
   "cell_type": "code",
   "execution_count": 18,
   "metadata": {},
   "outputs": [],
   "source": [
    "for i in range(0, df_test.shape[0]):\n",
    "    reconstruction_loss_transaction[i] = binary_cross_entropy(df_test.iloc[i], test_x_predictions.iloc[i])"
   ]
  },
  {
   "cell_type": "code",
   "execution_count": 19,
   "metadata": {},
   "outputs": [],
   "source": [
    "error_df_test = pd.DataFrame({'Reconstruction_error': reconstruction_loss_transaction,\n",
    "                        'True_class': df_test_y['ID']})\n",
    "error_df_test = error_df_test.reset_index()"
   ]
  },
  {
   "cell_type": "code",
   "execution_count": 22,
   "metadata": {},
   "outputs": [
    {
     "data": {
      "image/png": "[encoded data removed]",
      "text/plain": [
       "<Figure size 432x288 with 1 Axes>"
      ]
     },
     "metadata": {
      "needs_background": "light"
     },
     "output_type": "display_data"
    }
   ],
   "source": [
    "#threshold_fixed = 0.4\n",
    "groups = error_df_test.groupby('True_class')\n",
    "\n",
    "fig, ax = plt.subplots()\n",
    "\n",
    "for name, group in groups:\n",
    "    ax.plot(group.index, group.Reconstruction_error, marker='o', ms=3.5, linestyle='',\n",
    "            label= \"Error\" if name == 1 else \"Normal\")\n",
    "#ax.hlines(threshold_fixed, ax.get_xlim()[0], ax.get_xlim()[1], colors=\"r\", zorder=100, label='Threshold')\n",
    "ax.legend()\n",
    "plt.title(\"Reconstruction error for different classes\")\n",
    "plt.ylabel(\"Reconstruction error\")\n",
    "plt.xlabel(\"Data point index\")\n",
    "plt.show();"
   ]
  },
  {
   "cell_type": "code",
   "execution_count": 21,
   "metadata": {},
   "outputs": [],
   "source": [
    "from sklearn.utils import shuffle\n",
    "error_df_test = shuffle(error_df_test)\n",
    "error_df_test = error_df_test.reset_index()"
   ]
  },
  {
   "cell_type": "code",
   "execution_count": null,
   "metadata": {},
   "outputs": [],
   "source": []
  }
 ],
 "metadata": {
  "kernelspec": {
   "display_name": "Python 3",
   "language": "python",
   "name": "python3"
  },
  "language_info": {
   "codemirror_mode": {
    "name": "ipython",
    "version": 3
   },
   "file_extension": ".py",
   "mimetype": "text/x-python",
   "name": "python",
   "nbconvert_exporter": "python",
   "pygments_lexer": "ipython3",
   "version": "3.6.3"
  }
 },
 "nbformat": 4,
 "nbformat_minor": 2
}
